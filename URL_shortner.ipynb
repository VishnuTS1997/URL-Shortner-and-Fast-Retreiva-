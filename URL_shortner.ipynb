{
  "nbformat": 4,
  "nbformat_minor": 0,
  "metadata": {
    "colab": {
      "provenance": []
    },
    "kernelspec": {
      "name": "python3",
      "display_name": "Python 3"
    },
    "language_info": {
      "name": "python"
    }
  },
  "cells": [
    {
      "cell_type": "code",
      "execution_count": 28,
      "metadata": {
        "id": "UDol3SPId8xp"
      },
      "outputs": [],
      "source": [
        "import random\n",
        "import string\n",
        "\n",
        "d = {}\n",
        "\n",
        "#given a long URL, get a short URL\n",
        "\n",
        "def getShortURL(longURL):\n",
        "  #lebgth = random value in 6-10\n",
        "  l= random.randint(6,10);\n",
        "  print(l);\n",
        "\n",
        "  # generate random characters into string of length l\n",
        "  chars = string.ascii_lowercase\n",
        "  shortURL= ''.join(random.choice(chars) for i in range(l))\n",
        "  print(shortURL)\n",
        "\n",
        "  #check if the URl is present in the dict or not\n",
        "  if shortURL in d:\n",
        "    return getShortURL(longURL);\n",
        "  else:\n",
        "  \n",
        "    d[shortURL] = longURL;\n",
        "  \n",
        "  print(d)\n",
        "  r = \"https://www.shortURL.com/\" + shortURL\n",
        "  return r\n",
        "\n",
        "\n",
        "def getLongURL(sURL):\n",
        "  #extract Key from URL https://www.shortURL.com/--uzxpkynrl-- key\n",
        "  k = sURL[25:]\n",
        "  print(k)\n",
        "  \n",
        "  if k in d:\n",
        "    return d[k];\n",
        "  else: \n",
        "    return None;\n"
      ]
    },
    {
      "cell_type": "code",
      "source": [
        "#getting short URL given a Long URL\n",
        "print(getShortURL(\"https://www.scaler.com/academy/mentee-dashboard/todos\"))"
      ],
      "metadata": {
        "colab": {
          "base_uri": "https://localhost:8080/"
        },
        "id": "9oyoeYkKg4_v",
        "outputId": "71ec1f98-d428-4e46-c49e-09b368b7aa05"
      },
      "execution_count": 26,
      "outputs": [
        {
          "output_type": "stream",
          "name": "stdout",
          "text": [
            "9\n",
            "mmmffvvht\n",
            "{'mmmffvvht': 'https://www.scaler.com/academy/mentee-dashboard/todos'}\n",
            "https://www.shortURL.com/mmmffvvht\n"
          ]
        }
      ]
    },
    {
      "cell_type": "code",
      "source": [
        "#get long URL if Short URl is given\n",
        "print(getLongURL(\"https://www.shortURL.com/mmmffvvht\")) "
      ],
      "metadata": {
        "colab": {
          "base_uri": "https://localhost:8080/"
        },
        "id": "zf9UV2NEhfPI",
        "outputId": "334f1d8d-e3a4-498a-d4df-5cea6297b13a"
      },
      "execution_count": 27,
      "outputs": [
        {
          "output_type": "stream",
          "name": "stdout",
          "text": [
            "mmmffvvht\n",
            "https://www.scaler.com/academy/mentee-dashboard/todos\n"
          ]
        }
      ]
    }
  ]
}